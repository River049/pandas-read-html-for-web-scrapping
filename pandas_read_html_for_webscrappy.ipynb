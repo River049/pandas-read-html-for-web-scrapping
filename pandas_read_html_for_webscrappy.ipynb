{
  "cells": [
    {
      "cell_type": "markdown",
      "metadata": {
        "id": "jsGSzqADSa0o"
      },
      "source": [
        "## **URL to the webpage \"2018-19 NBA Player Stats: Per Game\"**"
      ]
    },
    {
      "cell_type": "markdown",
      "metadata": {
        "id": "-AQZU0n4StVq"
      },
      "source": [
        "### Method 1\n",
        "\n",
        "We could modularize the URL and year strings of text that may be useful for programmatic access (in the subsequent code cell)."
      ]
    },
    {
      "cell_type": "code",
      "execution_count": 1,
      "metadata": {
        "colab": {
          "base_uri": "https://localhost:8080/",
          "height": 35
        },
        "id": "pGkHgtANQ4b2",
        "outputId": "c62473df-718b-45eb-bd6d-67938148ac3f"
      },
      "outputs": [
        {
          "data": {
            "text/plain": [
              "'https://www.basketball-reference.com/leagues/NBA_2019_per_game.html'"
            ]
          },
          "execution_count": 1,
          "metadata": {},
          "output_type": "execute_result"
        }
      ],
      "source": [
        "# The Building Blocks\n",
        "year = '2019'\n",
        "url_link = 'https://www.basketball-reference.com/leagues/NBA_{}_per_game.html'\n",
        "\n",
        "# Combining the URL + year strings together\n",
        "url = url_link.format(year)\n",
        "url"
      ]
    },
    {
      "cell_type": "markdown",
      "metadata": {
        "id": "ySZux1-hWLbX"
      },
      "source": [
        "Now, let's programmatically return a list of URL given a list of years (e.g. 2015,2016,2017,2018,2019)."
      ]
    },
    {
      "cell_type": "code",
      "execution_count": 8,
      "metadata": {
        "colab": {
          "base_uri": "https://localhost:8080/"
        },
        "id": "JSw9Q7s7VQyd",
        "outputId": "2aea6611-7fc9-4dfa-f91a-531a23756d39"
      },
      "outputs": [
        {
          "name": "stdout",
          "output_type": "stream",
          "text": [
            "https://www.basketball-reference.com/leagues/NBA_2017_per_game.html\n",
            "https://www.basketball-reference.com/leagues/NBA_2018_per_game.html\n",
            "https://www.basketball-reference.com/leagues/NBA_2019_per_game.html\n",
            "https://www.basketball-reference.com/leagues/NBA_2020_per_game.html\n",
            "https://www.basketball-reference.com/leagues/NBA_2021_per_game.html\n"
          ]
        }
      ],
      "source": [
        "years = [2017,2018,2019,2020,2021]\n",
        "url_link = 'https://www.basketball-reference.com/leagues/NBA_{}_per_game.html'\n",
        "\n",
        "for year in years:\n",
        "  url = url_link.format(year)\n",
        "  print(url)"
      ]
    },
    {
      "cell_type": "markdown",
      "metadata": {
        "id": "wlDt8TTxSvEz"
      },
      "source": [
        "Method 2"
      ]
    },
    {
      "cell_type": "code",
      "execution_count": 9,
      "metadata": {
        "id": "-x78Rt_iRmCa"
      },
      "outputs": [],
      "source": [
        "url = 'https://www.basketball-reference.com/leagues/NBA_2021_per_game.html'"
      ]
    },
    {
      "cell_type": "markdown",
      "metadata": {
        "id": "fhVY2xJJS0FU"
      },
      "source": [
        "## **Read HTML webpage into pandas**"
      ]
    },
    {
      "cell_type": "code",
      "execution_count": 10,
      "metadata": {
        "id": "yE_EfE-gPW1a"
      },
      "outputs": [],
      "source": [
        "import pandas as pd"
      ]
    },
    {
      "cell_type": "markdown",
      "metadata": {
        "id": "Sk1EUVeFUXPq"
      },
      "source": [
        "### Using pd.read_html() function to read HTML webpage"
      ]
    },
    {
      "cell_type": "code",
      "execution_count": 12,
      "metadata": {
        "colab": {
          "base_uri": "https://localhost:8080/"
        },
        "id": "4sLS78K-S-r2",
        "outputId": "6f8f3171-9db9-448c-e42f-383f31d287ed"
      },
      "outputs": [
        {
          "data": {
            "text/plain": [
              "[      Rk             Player Pos Age   Tm   G  GS    MP   FG   FGA  ...   FT%  \\\n",
              " 0      1   Precious Achiuwa  PF  21  MIA  61   4  12.1  2.0   3.7  ...  .509   \n",
              " 1      2       Jaylen Adams  PG  24  MIL   7   0   2.6  0.1   1.1  ...   NaN   \n",
              " 2      3       Steven Adams   C  27  NOP  58  58  27.7  3.3   5.3  ...  .444   \n",
              " 3      4        Bam Adebayo   C  23  MIA  64  64  33.5  7.1  12.5  ...  .799   \n",
              " 4      5  LaMarcus Aldridge   C  35  TOT  26  23  25.9  5.4  11.4  ...  .872   \n",
              " ..   ...                ...  ..  ..  ...  ..  ..   ...  ...   ...  ...   ...   \n",
              " 726  536       Delon Wright  PG  28  SAC  27   8  25.8  3.9   8.3  ...  .833   \n",
              " 727  537     Thaddeus Young  PF  32  CHI  68  23  24.3  5.4   9.7  ...  .628   \n",
              " 728  538         Trae Young  PG  22  ATL  63  63  33.7  7.7  17.7  ...  .886   \n",
              " 729  539        Cody Zeller   C  28  CHO  48  21  20.9  3.8   6.8  ...  .714   \n",
              " 730  540        Ivica Zubac   C  23  LAC  72  33  22.3  3.6   5.5  ...  .789   \n",
              " \n",
              "      ORB  DRB  TRB  AST  STL  BLK  TOV   PF   PTS  \n",
              " 0    1.2  2.2  3.4  0.5  0.3  0.5  0.7  1.5   5.0  \n",
              " 1    0.0  0.4  0.4  0.3  0.0  0.0  0.0  0.1   0.3  \n",
              " 2    3.7  5.2  8.9  1.9  0.9  0.7  1.3  1.9   7.6  \n",
              " 3    2.2  6.7  9.0  5.4  1.2  1.0  2.6  2.3  18.7  \n",
              " 4    0.7  3.8  4.5  1.9  0.4  1.1  1.0  1.8  13.5  \n",
              " ..   ...  ...  ...  ...  ...  ...  ...  ...   ...  \n",
              " 726  1.0  2.9  3.9  3.6  1.6  0.4  1.3  1.1  10.0  \n",
              " 727  2.5  3.8  6.2  4.3  1.1  0.6  2.0  2.2  12.1  \n",
              " 728  0.6  3.3  3.9  9.4  0.8  0.2  4.1  1.8  25.3  \n",
              " 729  2.5  4.4  6.8  1.8  0.6  0.4  1.1  2.5   9.4  \n",
              " 730  2.6  4.6  7.2  1.3  0.3  0.9  1.1  2.6   9.0  \n",
              " \n",
              " [731 rows x 30 columns]]"
            ]
          },
          "execution_count": 12,
          "metadata": {},
          "output_type": "execute_result"
        }
      ],
      "source": [
        "df = pd.read_html(url, header = 0)\n",
        "df"
      ]
    },
    {
      "cell_type": "markdown",
      "metadata": {
        "id": "iVtWB7zuUWIp"
      },
      "source": [
        "### How many tables are there in the webpage?"
      ]
    },
    {
      "cell_type": "code",
      "execution_count": 13,
      "metadata": {
        "colab": {
          "base_uri": "https://localhost:8080/"
        },
        "id": "BdIXrthuTApH",
        "outputId": "dd9c2d0a-e004-4423-a857-589d00794439"
      },
      "outputs": [
        {
          "data": {
            "text/plain": [
              "1"
            ]
          },
          "execution_count": 13,
          "metadata": {},
          "output_type": "execute_result"
        }
      ],
      "source": [
        "len(df)"
      ]
    },
    {
      "cell_type": "markdown",
      "metadata": {
        "id": "glCMVlkWU6ik"
      },
      "source": [
        "### Select the first table"
      ]
    },
    {
      "cell_type": "code",
      "execution_count": 14,
      "metadata": {
        "colab": {
          "base_uri": "https://localhost:8080/",
          "height": 423
        },
        "id": "Pv0NHbFeTrEp",
        "outputId": "74c10ec3-5a9e-4928-da12-8bc306087402"
      },
      "outputs": [
        {
          "data": {
            "text/html": [
              "<div>\n",
              "<style scoped>\n",
              "    .dataframe tbody tr th:only-of-type {\n",
              "        vertical-align: middle;\n",
              "    }\n",
              "\n",
              "    .dataframe tbody tr th {\n",
              "        vertical-align: top;\n",
              "    }\n",
              "\n",
              "    .dataframe thead th {\n",
              "        text-align: right;\n",
              "    }\n",
              "</style>\n",
              "<table border=\"1\" class=\"dataframe\">\n",
              "  <thead>\n",
              "    <tr style=\"text-align: right;\">\n",
              "      <th></th>\n",
              "      <th>Rk</th>\n",
              "      <th>Player</th>\n",
              "      <th>Pos</th>\n",
              "      <th>Age</th>\n",
              "      <th>Tm</th>\n",
              "      <th>G</th>\n",
              "      <th>GS</th>\n",
              "      <th>MP</th>\n",
              "      <th>FG</th>\n",
              "      <th>FGA</th>\n",
              "      <th>...</th>\n",
              "      <th>FT%</th>\n",
              "      <th>ORB</th>\n",
              "      <th>DRB</th>\n",
              "      <th>TRB</th>\n",
              "      <th>AST</th>\n",
              "      <th>STL</th>\n",
              "      <th>BLK</th>\n",
              "      <th>TOV</th>\n",
              "      <th>PF</th>\n",
              "      <th>PTS</th>\n",
              "    </tr>\n",
              "  </thead>\n",
              "  <tbody>\n",
              "    <tr>\n",
              "      <th>0</th>\n",
              "      <td>1</td>\n",
              "      <td>Precious Achiuwa</td>\n",
              "      <td>PF</td>\n",
              "      <td>21</td>\n",
              "      <td>MIA</td>\n",
              "      <td>61</td>\n",
              "      <td>4</td>\n",
              "      <td>12.1</td>\n",
              "      <td>2.0</td>\n",
              "      <td>3.7</td>\n",
              "      <td>...</td>\n",
              "      <td>.509</td>\n",
              "      <td>1.2</td>\n",
              "      <td>2.2</td>\n",
              "      <td>3.4</td>\n",
              "      <td>0.5</td>\n",
              "      <td>0.3</td>\n",
              "      <td>0.5</td>\n",
              "      <td>0.7</td>\n",
              "      <td>1.5</td>\n",
              "      <td>5.0</td>\n",
              "    </tr>\n",
              "    <tr>\n",
              "      <th>1</th>\n",
              "      <td>2</td>\n",
              "      <td>Jaylen Adams</td>\n",
              "      <td>PG</td>\n",
              "      <td>24</td>\n",
              "      <td>MIL</td>\n",
              "      <td>7</td>\n",
              "      <td>0</td>\n",
              "      <td>2.6</td>\n",
              "      <td>0.1</td>\n",
              "      <td>1.1</td>\n",
              "      <td>...</td>\n",
              "      <td>NaN</td>\n",
              "      <td>0.0</td>\n",
              "      <td>0.4</td>\n",
              "      <td>0.4</td>\n",
              "      <td>0.3</td>\n",
              "      <td>0.0</td>\n",
              "      <td>0.0</td>\n",
              "      <td>0.0</td>\n",
              "      <td>0.1</td>\n",
              "      <td>0.3</td>\n",
              "    </tr>\n",
              "    <tr>\n",
              "      <th>2</th>\n",
              "      <td>3</td>\n",
              "      <td>Steven Adams</td>\n",
              "      <td>C</td>\n",
              "      <td>27</td>\n",
              "      <td>NOP</td>\n",
              "      <td>58</td>\n",
              "      <td>58</td>\n",
              "      <td>27.7</td>\n",
              "      <td>3.3</td>\n",
              "      <td>5.3</td>\n",
              "      <td>...</td>\n",
              "      <td>.444</td>\n",
              "      <td>3.7</td>\n",
              "      <td>5.2</td>\n",
              "      <td>8.9</td>\n",
              "      <td>1.9</td>\n",
              "      <td>0.9</td>\n",
              "      <td>0.7</td>\n",
              "      <td>1.3</td>\n",
              "      <td>1.9</td>\n",
              "      <td>7.6</td>\n",
              "    </tr>\n",
              "    <tr>\n",
              "      <th>3</th>\n",
              "      <td>4</td>\n",
              "      <td>Bam Adebayo</td>\n",
              "      <td>C</td>\n",
              "      <td>23</td>\n",
              "      <td>MIA</td>\n",
              "      <td>64</td>\n",
              "      <td>64</td>\n",
              "      <td>33.5</td>\n",
              "      <td>7.1</td>\n",
              "      <td>12.5</td>\n",
              "      <td>...</td>\n",
              "      <td>.799</td>\n",
              "      <td>2.2</td>\n",
              "      <td>6.7</td>\n",
              "      <td>9.0</td>\n",
              "      <td>5.4</td>\n",
              "      <td>1.2</td>\n",
              "      <td>1.0</td>\n",
              "      <td>2.6</td>\n",
              "      <td>2.3</td>\n",
              "      <td>18.7</td>\n",
              "    </tr>\n",
              "    <tr>\n",
              "      <th>4</th>\n",
              "      <td>5</td>\n",
              "      <td>LaMarcus Aldridge</td>\n",
              "      <td>C</td>\n",
              "      <td>35</td>\n",
              "      <td>TOT</td>\n",
              "      <td>26</td>\n",
              "      <td>23</td>\n",
              "      <td>25.9</td>\n",
              "      <td>5.4</td>\n",
              "      <td>11.4</td>\n",
              "      <td>...</td>\n",
              "      <td>.872</td>\n",
              "      <td>0.7</td>\n",
              "      <td>3.8</td>\n",
              "      <td>4.5</td>\n",
              "      <td>1.9</td>\n",
              "      <td>0.4</td>\n",
              "      <td>1.1</td>\n",
              "      <td>1.0</td>\n",
              "      <td>1.8</td>\n",
              "      <td>13.5</td>\n",
              "    </tr>\n",
              "    <tr>\n",
              "      <th>...</th>\n",
              "      <td>...</td>\n",
              "      <td>...</td>\n",
              "      <td>...</td>\n",
              "      <td>...</td>\n",
              "      <td>...</td>\n",
              "      <td>...</td>\n",
              "      <td>...</td>\n",
              "      <td>...</td>\n",
              "      <td>...</td>\n",
              "      <td>...</td>\n",
              "      <td>...</td>\n",
              "      <td>...</td>\n",
              "      <td>...</td>\n",
              "      <td>...</td>\n",
              "      <td>...</td>\n",
              "      <td>...</td>\n",
              "      <td>...</td>\n",
              "      <td>...</td>\n",
              "      <td>...</td>\n",
              "      <td>...</td>\n",
              "      <td>...</td>\n",
              "    </tr>\n",
              "    <tr>\n",
              "      <th>726</th>\n",
              "      <td>536</td>\n",
              "      <td>Delon Wright</td>\n",
              "      <td>PG</td>\n",
              "      <td>28</td>\n",
              "      <td>SAC</td>\n",
              "      <td>27</td>\n",
              "      <td>8</td>\n",
              "      <td>25.8</td>\n",
              "      <td>3.9</td>\n",
              "      <td>8.3</td>\n",
              "      <td>...</td>\n",
              "      <td>.833</td>\n",
              "      <td>1.0</td>\n",
              "      <td>2.9</td>\n",
              "      <td>3.9</td>\n",
              "      <td>3.6</td>\n",
              "      <td>1.6</td>\n",
              "      <td>0.4</td>\n",
              "      <td>1.3</td>\n",
              "      <td>1.1</td>\n",
              "      <td>10.0</td>\n",
              "    </tr>\n",
              "    <tr>\n",
              "      <th>727</th>\n",
              "      <td>537</td>\n",
              "      <td>Thaddeus Young</td>\n",
              "      <td>PF</td>\n",
              "      <td>32</td>\n",
              "      <td>CHI</td>\n",
              "      <td>68</td>\n",
              "      <td>23</td>\n",
              "      <td>24.3</td>\n",
              "      <td>5.4</td>\n",
              "      <td>9.7</td>\n",
              "      <td>...</td>\n",
              "      <td>.628</td>\n",
              "      <td>2.5</td>\n",
              "      <td>3.8</td>\n",
              "      <td>6.2</td>\n",
              "      <td>4.3</td>\n",
              "      <td>1.1</td>\n",
              "      <td>0.6</td>\n",
              "      <td>2.0</td>\n",
              "      <td>2.2</td>\n",
              "      <td>12.1</td>\n",
              "    </tr>\n",
              "    <tr>\n",
              "      <th>728</th>\n",
              "      <td>538</td>\n",
              "      <td>Trae Young</td>\n",
              "      <td>PG</td>\n",
              "      <td>22</td>\n",
              "      <td>ATL</td>\n",
              "      <td>63</td>\n",
              "      <td>63</td>\n",
              "      <td>33.7</td>\n",
              "      <td>7.7</td>\n",
              "      <td>17.7</td>\n",
              "      <td>...</td>\n",
              "      <td>.886</td>\n",
              "      <td>0.6</td>\n",
              "      <td>3.3</td>\n",
              "      <td>3.9</td>\n",
              "      <td>9.4</td>\n",
              "      <td>0.8</td>\n",
              "      <td>0.2</td>\n",
              "      <td>4.1</td>\n",
              "      <td>1.8</td>\n",
              "      <td>25.3</td>\n",
              "    </tr>\n",
              "    <tr>\n",
              "      <th>729</th>\n",
              "      <td>539</td>\n",
              "      <td>Cody Zeller</td>\n",
              "      <td>C</td>\n",
              "      <td>28</td>\n",
              "      <td>CHO</td>\n",
              "      <td>48</td>\n",
              "      <td>21</td>\n",
              "      <td>20.9</td>\n",
              "      <td>3.8</td>\n",
              "      <td>6.8</td>\n",
              "      <td>...</td>\n",
              "      <td>.714</td>\n",
              "      <td>2.5</td>\n",
              "      <td>4.4</td>\n",
              "      <td>6.8</td>\n",
              "      <td>1.8</td>\n",
              "      <td>0.6</td>\n",
              "      <td>0.4</td>\n",
              "      <td>1.1</td>\n",
              "      <td>2.5</td>\n",
              "      <td>9.4</td>\n",
              "    </tr>\n",
              "    <tr>\n",
              "      <th>730</th>\n",
              "      <td>540</td>\n",
              "      <td>Ivica Zubac</td>\n",
              "      <td>C</td>\n",
              "      <td>23</td>\n",
              "      <td>LAC</td>\n",
              "      <td>72</td>\n",
              "      <td>33</td>\n",
              "      <td>22.3</td>\n",
              "      <td>3.6</td>\n",
              "      <td>5.5</td>\n",
              "      <td>...</td>\n",
              "      <td>.789</td>\n",
              "      <td>2.6</td>\n",
              "      <td>4.6</td>\n",
              "      <td>7.2</td>\n",
              "      <td>1.3</td>\n",
              "      <td>0.3</td>\n",
              "      <td>0.9</td>\n",
              "      <td>1.1</td>\n",
              "      <td>2.6</td>\n",
              "      <td>9.0</td>\n",
              "    </tr>\n",
              "  </tbody>\n",
              "</table>\n",
              "<p>731 rows × 30 columns</p>\n",
              "</div>"
            ],
            "text/plain": [
              "      Rk             Player Pos Age   Tm   G  GS    MP   FG   FGA  ...   FT%  \\\n",
              "0      1   Precious Achiuwa  PF  21  MIA  61   4  12.1  2.0   3.7  ...  .509   \n",
              "1      2       Jaylen Adams  PG  24  MIL   7   0   2.6  0.1   1.1  ...   NaN   \n",
              "2      3       Steven Adams   C  27  NOP  58  58  27.7  3.3   5.3  ...  .444   \n",
              "3      4        Bam Adebayo   C  23  MIA  64  64  33.5  7.1  12.5  ...  .799   \n",
              "4      5  LaMarcus Aldridge   C  35  TOT  26  23  25.9  5.4  11.4  ...  .872   \n",
              "..   ...                ...  ..  ..  ...  ..  ..   ...  ...   ...  ...   ...   \n",
              "726  536       Delon Wright  PG  28  SAC  27   8  25.8  3.9   8.3  ...  .833   \n",
              "727  537     Thaddeus Young  PF  32  CHI  68  23  24.3  5.4   9.7  ...  .628   \n",
              "728  538         Trae Young  PG  22  ATL  63  63  33.7  7.7  17.7  ...  .886   \n",
              "729  539        Cody Zeller   C  28  CHO  48  21  20.9  3.8   6.8  ...  .714   \n",
              "730  540        Ivica Zubac   C  23  LAC  72  33  22.3  3.6   5.5  ...  .789   \n",
              "\n",
              "     ORB  DRB  TRB  AST  STL  BLK  TOV   PF   PTS  \n",
              "0    1.2  2.2  3.4  0.5  0.3  0.5  0.7  1.5   5.0  \n",
              "1    0.0  0.4  0.4  0.3  0.0  0.0  0.0  0.1   0.3  \n",
              "2    3.7  5.2  8.9  1.9  0.9  0.7  1.3  1.9   7.6  \n",
              "3    2.2  6.7  9.0  5.4  1.2  1.0  2.6  2.3  18.7  \n",
              "4    0.7  3.8  4.5  1.9  0.4  1.1  1.0  1.8  13.5  \n",
              "..   ...  ...  ...  ...  ...  ...  ...  ...   ...  \n",
              "726  1.0  2.9  3.9  3.6  1.6  0.4  1.3  1.1  10.0  \n",
              "727  2.5  3.8  6.2  4.3  1.1  0.6  2.0  2.2  12.1  \n",
              "728  0.6  3.3  3.9  9.4  0.8  0.2  4.1  1.8  25.3  \n",
              "729  2.5  4.4  6.8  1.8  0.6  0.4  1.1  2.5   9.4  \n",
              "730  2.6  4.6  7.2  1.3  0.3  0.9  1.1  2.6   9.0  \n",
              "\n",
              "[731 rows x 30 columns]"
            ]
          },
          "execution_count": 14,
          "metadata": {},
          "output_type": "execute_result"
        }
      ],
      "source": [
        "df[0]"
      ]
    },
    {
      "cell_type": "code",
      "execution_count": 15,
      "metadata": {
        "id": "owwSCuZYU-sT"
      },
      "outputs": [],
      "source": [
        "df2019 = df[0]"
      ]
    },
    {
      "cell_type": "code",
      "execution_count": 8,
      "metadata": {
        "id": "LnK9JHQ9VFkq"
      },
      "outputs": [],
      "source": []
    },
    {
      "cell_type": "markdown",
      "metadata": {
        "id": "laW205ykvn0S"
      },
      "source": [
        "## Data cleaning"
      ]
    },
    {
      "cell_type": "markdown",
      "metadata": {
        "id": "b-cH41xd54Tw"
      },
      "source": [
        "We can see that the table header is presented multiple times in several rows."
      ]
    },
    {
      "cell_type": "code",
      "execution_count": 16,
      "metadata": {
        "colab": {
          "base_uri": "https://localhost:8080/",
          "height": 894
        },
        "id": "6St9yeuZg9rf",
        "outputId": "cbbc0477-7bcc-486a-9b58-f5f21e4275f6"
      },
      "outputs": [
        {
          "data": {
            "text/html": [
              "<div>\n",
              "<style scoped>\n",
              "    .dataframe tbody tr th:only-of-type {\n",
              "        vertical-align: middle;\n",
              "    }\n",
              "\n",
              "    .dataframe tbody tr th {\n",
              "        vertical-align: top;\n",
              "    }\n",
              "\n",
              "    .dataframe thead th {\n",
              "        text-align: right;\n",
              "    }\n",
              "</style>\n",
              "<table border=\"1\" class=\"dataframe\">\n",
              "  <thead>\n",
              "    <tr style=\"text-align: right;\">\n",
              "      <th></th>\n",
              "      <th>Rk</th>\n",
              "      <th>Player</th>\n",
              "      <th>Pos</th>\n",
              "      <th>Age</th>\n",
              "      <th>Tm</th>\n",
              "      <th>G</th>\n",
              "      <th>GS</th>\n",
              "      <th>MP</th>\n",
              "      <th>FG</th>\n",
              "      <th>FGA</th>\n",
              "      <th>...</th>\n",
              "      <th>FT%</th>\n",
              "      <th>ORB</th>\n",
              "      <th>DRB</th>\n",
              "      <th>TRB</th>\n",
              "      <th>AST</th>\n",
              "      <th>STL</th>\n",
              "      <th>BLK</th>\n",
              "      <th>TOV</th>\n",
              "      <th>PF</th>\n",
              "      <th>PTS</th>\n",
              "    </tr>\n",
              "  </thead>\n",
              "  <tbody>\n",
              "    <tr>\n",
              "      <th>28</th>\n",
              "      <td>Rk</td>\n",
              "      <td>Player</td>\n",
              "      <td>Pos</td>\n",
              "      <td>Age</td>\n",
              "      <td>Tm</td>\n",
              "      <td>G</td>\n",
              "      <td>GS</td>\n",
              "      <td>MP</td>\n",
              "      <td>FG</td>\n",
              "      <td>FGA</td>\n",
              "      <td>...</td>\n",
              "      <td>FT%</td>\n",
              "      <td>ORB</td>\n",
              "      <td>DRB</td>\n",
              "      <td>TRB</td>\n",
              "      <td>AST</td>\n",
              "      <td>STL</td>\n",
              "      <td>BLK</td>\n",
              "      <td>TOV</td>\n",
              "      <td>PF</td>\n",
              "      <td>PTS</td>\n",
              "    </tr>\n",
              "    <tr>\n",
              "      <th>51</th>\n",
              "      <td>Rk</td>\n",
              "      <td>Player</td>\n",
              "      <td>Pos</td>\n",
              "      <td>Age</td>\n",
              "      <td>Tm</td>\n",
              "      <td>G</td>\n",
              "      <td>GS</td>\n",
              "      <td>MP</td>\n",
              "      <td>FG</td>\n",
              "      <td>FGA</td>\n",
              "      <td>...</td>\n",
              "      <td>FT%</td>\n",
              "      <td>ORB</td>\n",
              "      <td>DRB</td>\n",
              "      <td>TRB</td>\n",
              "      <td>AST</td>\n",
              "      <td>STL</td>\n",
              "      <td>BLK</td>\n",
              "      <td>TOV</td>\n",
              "      <td>PF</td>\n",
              "      <td>PTS</td>\n",
              "    </tr>\n",
              "    <tr>\n",
              "      <th>76</th>\n",
              "      <td>Rk</td>\n",
              "      <td>Player</td>\n",
              "      <td>Pos</td>\n",
              "      <td>Age</td>\n",
              "      <td>Tm</td>\n",
              "      <td>G</td>\n",
              "      <td>GS</td>\n",
              "      <td>MP</td>\n",
              "      <td>FG</td>\n",
              "      <td>FGA</td>\n",
              "      <td>...</td>\n",
              "      <td>FT%</td>\n",
              "      <td>ORB</td>\n",
              "      <td>DRB</td>\n",
              "      <td>TRB</td>\n",
              "      <td>AST</td>\n",
              "      <td>STL</td>\n",
              "      <td>BLK</td>\n",
              "      <td>TOV</td>\n",
              "      <td>PF</td>\n",
              "      <td>PTS</td>\n",
              "    </tr>\n",
              "    <tr>\n",
              "      <th>106</th>\n",
              "      <td>Rk</td>\n",
              "      <td>Player</td>\n",
              "      <td>Pos</td>\n",
              "      <td>Age</td>\n",
              "      <td>Tm</td>\n",
              "      <td>G</td>\n",
              "      <td>GS</td>\n",
              "      <td>MP</td>\n",
              "      <td>FG</td>\n",
              "      <td>FGA</td>\n",
              "      <td>...</td>\n",
              "      <td>FT%</td>\n",
              "      <td>ORB</td>\n",
              "      <td>DRB</td>\n",
              "      <td>TRB</td>\n",
              "      <td>AST</td>\n",
              "      <td>STL</td>\n",
              "      <td>BLK</td>\n",
              "      <td>TOV</td>\n",
              "      <td>PF</td>\n",
              "      <td>PTS</td>\n",
              "    </tr>\n",
              "    <tr>\n",
              "      <th>132</th>\n",
              "      <td>Rk</td>\n",
              "      <td>Player</td>\n",
              "      <td>Pos</td>\n",
              "      <td>Age</td>\n",
              "      <td>Tm</td>\n",
              "      <td>G</td>\n",
              "      <td>GS</td>\n",
              "      <td>MP</td>\n",
              "      <td>FG</td>\n",
              "      <td>FGA</td>\n",
              "      <td>...</td>\n",
              "      <td>FT%</td>\n",
              "      <td>ORB</td>\n",
              "      <td>DRB</td>\n",
              "      <td>TRB</td>\n",
              "      <td>AST</td>\n",
              "      <td>STL</td>\n",
              "      <td>BLK</td>\n",
              "      <td>TOV</td>\n",
              "      <td>PF</td>\n",
              "      <td>PTS</td>\n",
              "    </tr>\n",
              "    <tr>\n",
              "      <th>163</th>\n",
              "      <td>Rk</td>\n",
              "      <td>Player</td>\n",
              "      <td>Pos</td>\n",
              "      <td>Age</td>\n",
              "      <td>Tm</td>\n",
              "      <td>G</td>\n",
              "      <td>GS</td>\n",
              "      <td>MP</td>\n",
              "      <td>FG</td>\n",
              "      <td>FGA</td>\n",
              "      <td>...</td>\n",
              "      <td>FT%</td>\n",
              "      <td>ORB</td>\n",
              "      <td>DRB</td>\n",
              "      <td>TRB</td>\n",
              "      <td>AST</td>\n",
              "      <td>STL</td>\n",
              "      <td>BLK</td>\n",
              "      <td>TOV</td>\n",
              "      <td>PF</td>\n",
              "      <td>PTS</td>\n",
              "    </tr>\n",
              "    <tr>\n",
              "      <th>190</th>\n",
              "      <td>Rk</td>\n",
              "      <td>Player</td>\n",
              "      <td>Pos</td>\n",
              "      <td>Age</td>\n",
              "      <td>Tm</td>\n",
              "      <td>G</td>\n",
              "      <td>GS</td>\n",
              "      <td>MP</td>\n",
              "      <td>FG</td>\n",
              "      <td>FGA</td>\n",
              "      <td>...</td>\n",
              "      <td>FT%</td>\n",
              "      <td>ORB</td>\n",
              "      <td>DRB</td>\n",
              "      <td>TRB</td>\n",
              "      <td>AST</td>\n",
              "      <td>STL</td>\n",
              "      <td>BLK</td>\n",
              "      <td>TOV</td>\n",
              "      <td>PF</td>\n",
              "      <td>PTS</td>\n",
              "    </tr>\n",
              "    <tr>\n",
              "      <th>213</th>\n",
              "      <td>Rk</td>\n",
              "      <td>Player</td>\n",
              "      <td>Pos</td>\n",
              "      <td>Age</td>\n",
              "      <td>Tm</td>\n",
              "      <td>G</td>\n",
              "      <td>GS</td>\n",
              "      <td>MP</td>\n",
              "      <td>FG</td>\n",
              "      <td>FGA</td>\n",
              "      <td>...</td>\n",
              "      <td>FT%</td>\n",
              "      <td>ORB</td>\n",
              "      <td>DRB</td>\n",
              "      <td>TRB</td>\n",
              "      <td>AST</td>\n",
              "      <td>STL</td>\n",
              "      <td>BLK</td>\n",
              "      <td>TOV</td>\n",
              "      <td>PF</td>\n",
              "      <td>PTS</td>\n",
              "    </tr>\n",
              "    <tr>\n",
              "      <th>238</th>\n",
              "      <td>Rk</td>\n",
              "      <td>Player</td>\n",
              "      <td>Pos</td>\n",
              "      <td>Age</td>\n",
              "      <td>Tm</td>\n",
              "      <td>G</td>\n",
              "      <td>GS</td>\n",
              "      <td>MP</td>\n",
              "      <td>FG</td>\n",
              "      <td>FGA</td>\n",
              "      <td>...</td>\n",
              "      <td>FT%</td>\n",
              "      <td>ORB</td>\n",
              "      <td>DRB</td>\n",
              "      <td>TRB</td>\n",
              "      <td>AST</td>\n",
              "      <td>STL</td>\n",
              "      <td>BLK</td>\n",
              "      <td>TOV</td>\n",
              "      <td>PF</td>\n",
              "      <td>PTS</td>\n",
              "    </tr>\n",
              "    <tr>\n",
              "      <th>267</th>\n",
              "      <td>Rk</td>\n",
              "      <td>Player</td>\n",
              "      <td>Pos</td>\n",
              "      <td>Age</td>\n",
              "      <td>Tm</td>\n",
              "      <td>G</td>\n",
              "      <td>GS</td>\n",
              "      <td>MP</td>\n",
              "      <td>FG</td>\n",
              "      <td>FGA</td>\n",
              "      <td>...</td>\n",
              "      <td>FT%</td>\n",
              "      <td>ORB</td>\n",
              "      <td>DRB</td>\n",
              "      <td>TRB</td>\n",
              "      <td>AST</td>\n",
              "      <td>STL</td>\n",
              "      <td>BLK</td>\n",
              "      <td>TOV</td>\n",
              "      <td>PF</td>\n",
              "      <td>PTS</td>\n",
              "    </tr>\n",
              "    <tr>\n",
              "      <th>300</th>\n",
              "      <td>Rk</td>\n",
              "      <td>Player</td>\n",
              "      <td>Pos</td>\n",
              "      <td>Age</td>\n",
              "      <td>Tm</td>\n",
              "      <td>G</td>\n",
              "      <td>GS</td>\n",
              "      <td>MP</td>\n",
              "      <td>FG</td>\n",
              "      <td>FGA</td>\n",
              "      <td>...</td>\n",
              "      <td>FT%</td>\n",
              "      <td>ORB</td>\n",
              "      <td>DRB</td>\n",
              "      <td>TRB</td>\n",
              "      <td>AST</td>\n",
              "      <td>STL</td>\n",
              "      <td>BLK</td>\n",
              "      <td>TOV</td>\n",
              "      <td>PF</td>\n",
              "      <td>PTS</td>\n",
              "    </tr>\n",
              "    <tr>\n",
              "      <th>325</th>\n",
              "      <td>Rk</td>\n",
              "      <td>Player</td>\n",
              "      <td>Pos</td>\n",
              "      <td>Age</td>\n",
              "      <td>Tm</td>\n",
              "      <td>G</td>\n",
              "      <td>GS</td>\n",
              "      <td>MP</td>\n",
              "      <td>FG</td>\n",
              "      <td>FGA</td>\n",
              "      <td>...</td>\n",
              "      <td>FT%</td>\n",
              "      <td>ORB</td>\n",
              "      <td>DRB</td>\n",
              "      <td>TRB</td>\n",
              "      <td>AST</td>\n",
              "      <td>STL</td>\n",
              "      <td>BLK</td>\n",
              "      <td>TOV</td>\n",
              "      <td>PF</td>\n",
              "      <td>PTS</td>\n",
              "    </tr>\n",
              "    <tr>\n",
              "      <th>354</th>\n",
              "      <td>Rk</td>\n",
              "      <td>Player</td>\n",
              "      <td>Pos</td>\n",
              "      <td>Age</td>\n",
              "      <td>Tm</td>\n",
              "      <td>G</td>\n",
              "      <td>GS</td>\n",
              "      <td>MP</td>\n",
              "      <td>FG</td>\n",
              "      <td>FGA</td>\n",
              "      <td>...</td>\n",
              "      <td>FT%</td>\n",
              "      <td>ORB</td>\n",
              "      <td>DRB</td>\n",
              "      <td>TRB</td>\n",
              "      <td>AST</td>\n",
              "      <td>STL</td>\n",
              "      <td>BLK</td>\n",
              "      <td>TOV</td>\n",
              "      <td>PF</td>\n",
              "      <td>PTS</td>\n",
              "    </tr>\n",
              "    <tr>\n",
              "      <th>386</th>\n",
              "      <td>Rk</td>\n",
              "      <td>Player</td>\n",
              "      <td>Pos</td>\n",
              "      <td>Age</td>\n",
              "      <td>Tm</td>\n",
              "      <td>G</td>\n",
              "      <td>GS</td>\n",
              "      <td>MP</td>\n",
              "      <td>FG</td>\n",
              "      <td>FGA</td>\n",
              "      <td>...</td>\n",
              "      <td>FT%</td>\n",
              "      <td>ORB</td>\n",
              "      <td>DRB</td>\n",
              "      <td>TRB</td>\n",
              "      <td>AST</td>\n",
              "      <td>STL</td>\n",
              "      <td>BLK</td>\n",
              "      <td>TOV</td>\n",
              "      <td>PF</td>\n",
              "      <td>PTS</td>\n",
              "    </tr>\n",
              "    <tr>\n",
              "      <th>414</th>\n",
              "      <td>Rk</td>\n",
              "      <td>Player</td>\n",
              "      <td>Pos</td>\n",
              "      <td>Age</td>\n",
              "      <td>Tm</td>\n",
              "      <td>G</td>\n",
              "      <td>GS</td>\n",
              "      <td>MP</td>\n",
              "      <td>FG</td>\n",
              "      <td>FGA</td>\n",
              "      <td>...</td>\n",
              "      <td>FT%</td>\n",
              "      <td>ORB</td>\n",
              "      <td>DRB</td>\n",
              "      <td>TRB</td>\n",
              "      <td>AST</td>\n",
              "      <td>STL</td>\n",
              "      <td>BLK</td>\n",
              "      <td>TOV</td>\n",
              "      <td>PF</td>\n",
              "      <td>PTS</td>\n",
              "    </tr>\n",
              "    <tr>\n",
              "      <th>435</th>\n",
              "      <td>Rk</td>\n",
              "      <td>Player</td>\n",
              "      <td>Pos</td>\n",
              "      <td>Age</td>\n",
              "      <td>Tm</td>\n",
              "      <td>G</td>\n",
              "      <td>GS</td>\n",
              "      <td>MP</td>\n",
              "      <td>FG</td>\n",
              "      <td>FGA</td>\n",
              "      <td>...</td>\n",
              "      <td>FT%</td>\n",
              "      <td>ORB</td>\n",
              "      <td>DRB</td>\n",
              "      <td>TRB</td>\n",
              "      <td>AST</td>\n",
              "      <td>STL</td>\n",
              "      <td>BLK</td>\n",
              "      <td>TOV</td>\n",
              "      <td>PF</td>\n",
              "      <td>PTS</td>\n",
              "    </tr>\n",
              "    <tr>\n",
              "      <th>462</th>\n",
              "      <td>Rk</td>\n",
              "      <td>Player</td>\n",
              "      <td>Pos</td>\n",
              "      <td>Age</td>\n",
              "      <td>Tm</td>\n",
              "      <td>G</td>\n",
              "      <td>GS</td>\n",
              "      <td>MP</td>\n",
              "      <td>FG</td>\n",
              "      <td>FGA</td>\n",
              "      <td>...</td>\n",
              "      <td>FT%</td>\n",
              "      <td>ORB</td>\n",
              "      <td>DRB</td>\n",
              "      <td>TRB</td>\n",
              "      <td>AST</td>\n",
              "      <td>STL</td>\n",
              "      <td>BLK</td>\n",
              "      <td>TOV</td>\n",
              "      <td>PF</td>\n",
              "      <td>PTS</td>\n",
              "    </tr>\n",
              "    <tr>\n",
              "      <th>483</th>\n",
              "      <td>Rk</td>\n",
              "      <td>Player</td>\n",
              "      <td>Pos</td>\n",
              "      <td>Age</td>\n",
              "      <td>Tm</td>\n",
              "      <td>G</td>\n",
              "      <td>GS</td>\n",
              "      <td>MP</td>\n",
              "      <td>FG</td>\n",
              "      <td>FGA</td>\n",
              "      <td>...</td>\n",
              "      <td>FT%</td>\n",
              "      <td>ORB</td>\n",
              "      <td>DRB</td>\n",
              "      <td>TRB</td>\n",
              "      <td>AST</td>\n",
              "      <td>STL</td>\n",
              "      <td>BLK</td>\n",
              "      <td>TOV</td>\n",
              "      <td>PF</td>\n",
              "      <td>PTS</td>\n",
              "    </tr>\n",
              "    <tr>\n",
              "      <th>506</th>\n",
              "      <td>Rk</td>\n",
              "      <td>Player</td>\n",
              "      <td>Pos</td>\n",
              "      <td>Age</td>\n",
              "      <td>Tm</td>\n",
              "      <td>G</td>\n",
              "      <td>GS</td>\n",
              "      <td>MP</td>\n",
              "      <td>FG</td>\n",
              "      <td>FGA</td>\n",
              "      <td>...</td>\n",
              "      <td>FT%</td>\n",
              "      <td>ORB</td>\n",
              "      <td>DRB</td>\n",
              "      <td>TRB</td>\n",
              "      <td>AST</td>\n",
              "      <td>STL</td>\n",
              "      <td>BLK</td>\n",
              "      <td>TOV</td>\n",
              "      <td>PF</td>\n",
              "      <td>PTS</td>\n",
              "    </tr>\n",
              "    <tr>\n",
              "      <th>537</th>\n",
              "      <td>Rk</td>\n",
              "      <td>Player</td>\n",
              "      <td>Pos</td>\n",
              "      <td>Age</td>\n",
              "      <td>Tm</td>\n",
              "      <td>G</td>\n",
              "      <td>GS</td>\n",
              "      <td>MP</td>\n",
              "      <td>FG</td>\n",
              "      <td>FGA</td>\n",
              "      <td>...</td>\n",
              "      <td>FT%</td>\n",
              "      <td>ORB</td>\n",
              "      <td>DRB</td>\n",
              "      <td>TRB</td>\n",
              "      <td>AST</td>\n",
              "      <td>STL</td>\n",
              "      <td>BLK</td>\n",
              "      <td>TOV</td>\n",
              "      <td>PF</td>\n",
              "      <td>PTS</td>\n",
              "    </tr>\n",
              "    <tr>\n",
              "      <th>564</th>\n",
              "      <td>Rk</td>\n",
              "      <td>Player</td>\n",
              "      <td>Pos</td>\n",
              "      <td>Age</td>\n",
              "      <td>Tm</td>\n",
              "      <td>G</td>\n",
              "      <td>GS</td>\n",
              "      <td>MP</td>\n",
              "      <td>FG</td>\n",
              "      <td>FGA</td>\n",
              "      <td>...</td>\n",
              "      <td>FT%</td>\n",
              "      <td>ORB</td>\n",
              "      <td>DRB</td>\n",
              "      <td>TRB</td>\n",
              "      <td>AST</td>\n",
              "      <td>STL</td>\n",
              "      <td>BLK</td>\n",
              "      <td>TOV</td>\n",
              "      <td>PF</td>\n",
              "      <td>PTS</td>\n",
              "    </tr>\n",
              "    <tr>\n",
              "      <th>595</th>\n",
              "      <td>Rk</td>\n",
              "      <td>Player</td>\n",
              "      <td>Pos</td>\n",
              "      <td>Age</td>\n",
              "      <td>Tm</td>\n",
              "      <td>G</td>\n",
              "      <td>GS</td>\n",
              "      <td>MP</td>\n",
              "      <td>FG</td>\n",
              "      <td>FGA</td>\n",
              "      <td>...</td>\n",
              "      <td>FT%</td>\n",
              "      <td>ORB</td>\n",
              "      <td>DRB</td>\n",
              "      <td>TRB</td>\n",
              "      <td>AST</td>\n",
              "      <td>STL</td>\n",
              "      <td>BLK</td>\n",
              "      <td>TOV</td>\n",
              "      <td>PF</td>\n",
              "      <td>PTS</td>\n",
              "    </tr>\n",
              "    <tr>\n",
              "      <th>618</th>\n",
              "      <td>Rk</td>\n",
              "      <td>Player</td>\n",
              "      <td>Pos</td>\n",
              "      <td>Age</td>\n",
              "      <td>Tm</td>\n",
              "      <td>G</td>\n",
              "      <td>GS</td>\n",
              "      <td>MP</td>\n",
              "      <td>FG</td>\n",
              "      <td>FGA</td>\n",
              "      <td>...</td>\n",
              "      <td>FT%</td>\n",
              "      <td>ORB</td>\n",
              "      <td>DRB</td>\n",
              "      <td>TRB</td>\n",
              "      <td>AST</td>\n",
              "      <td>STL</td>\n",
              "      <td>BLK</td>\n",
              "      <td>TOV</td>\n",
              "      <td>PF</td>\n",
              "      <td>PTS</td>\n",
              "    </tr>\n",
              "    <tr>\n",
              "      <th>647</th>\n",
              "      <td>Rk</td>\n",
              "      <td>Player</td>\n",
              "      <td>Pos</td>\n",
              "      <td>Age</td>\n",
              "      <td>Tm</td>\n",
              "      <td>G</td>\n",
              "      <td>GS</td>\n",
              "      <td>MP</td>\n",
              "      <td>FG</td>\n",
              "      <td>FGA</td>\n",
              "      <td>...</td>\n",
              "      <td>FT%</td>\n",
              "      <td>ORB</td>\n",
              "      <td>DRB</td>\n",
              "      <td>TRB</td>\n",
              "      <td>AST</td>\n",
              "      <td>STL</td>\n",
              "      <td>BLK</td>\n",
              "      <td>TOV</td>\n",
              "      <td>PF</td>\n",
              "      <td>PTS</td>\n",
              "    </tr>\n",
              "    <tr>\n",
              "      <th>676</th>\n",
              "      <td>Rk</td>\n",
              "      <td>Player</td>\n",
              "      <td>Pos</td>\n",
              "      <td>Age</td>\n",
              "      <td>Tm</td>\n",
              "      <td>G</td>\n",
              "      <td>GS</td>\n",
              "      <td>MP</td>\n",
              "      <td>FG</td>\n",
              "      <td>FGA</td>\n",
              "      <td>...</td>\n",
              "      <td>FT%</td>\n",
              "      <td>ORB</td>\n",
              "      <td>DRB</td>\n",
              "      <td>TRB</td>\n",
              "      <td>AST</td>\n",
              "      <td>STL</td>\n",
              "      <td>BLK</td>\n",
              "      <td>TOV</td>\n",
              "      <td>PF</td>\n",
              "      <td>PTS</td>\n",
              "    </tr>\n",
              "    <tr>\n",
              "      <th>704</th>\n",
              "      <td>Rk</td>\n",
              "      <td>Player</td>\n",
              "      <td>Pos</td>\n",
              "      <td>Age</td>\n",
              "      <td>Tm</td>\n",
              "      <td>G</td>\n",
              "      <td>GS</td>\n",
              "      <td>MP</td>\n",
              "      <td>FG</td>\n",
              "      <td>FGA</td>\n",
              "      <td>...</td>\n",
              "      <td>FT%</td>\n",
              "      <td>ORB</td>\n",
              "      <td>DRB</td>\n",
              "      <td>TRB</td>\n",
              "      <td>AST</td>\n",
              "      <td>STL</td>\n",
              "      <td>BLK</td>\n",
              "      <td>TOV</td>\n",
              "      <td>PF</td>\n",
              "      <td>PTS</td>\n",
              "    </tr>\n",
              "  </tbody>\n",
              "</table>\n",
              "<p>26 rows × 30 columns</p>\n",
              "</div>"
            ],
            "text/plain": [
              "     Rk  Player  Pos  Age  Tm  G  GS  MP  FG  FGA  ...  FT%  ORB  DRB  TRB  \\\n",
              "28   Rk  Player  Pos  Age  Tm  G  GS  MP  FG  FGA  ...  FT%  ORB  DRB  TRB   \n",
              "51   Rk  Player  Pos  Age  Tm  G  GS  MP  FG  FGA  ...  FT%  ORB  DRB  TRB   \n",
              "76   Rk  Player  Pos  Age  Tm  G  GS  MP  FG  FGA  ...  FT%  ORB  DRB  TRB   \n",
              "106  Rk  Player  Pos  Age  Tm  G  GS  MP  FG  FGA  ...  FT%  ORB  DRB  TRB   \n",
              "132  Rk  Player  Pos  Age  Tm  G  GS  MP  FG  FGA  ...  FT%  ORB  DRB  TRB   \n",
              "163  Rk  Player  Pos  Age  Tm  G  GS  MP  FG  FGA  ...  FT%  ORB  DRB  TRB   \n",
              "190  Rk  Player  Pos  Age  Tm  G  GS  MP  FG  FGA  ...  FT%  ORB  DRB  TRB   \n",
              "213  Rk  Player  Pos  Age  Tm  G  GS  MP  FG  FGA  ...  FT%  ORB  DRB  TRB   \n",
              "238  Rk  Player  Pos  Age  Tm  G  GS  MP  FG  FGA  ...  FT%  ORB  DRB  TRB   \n",
              "267  Rk  Player  Pos  Age  Tm  G  GS  MP  FG  FGA  ...  FT%  ORB  DRB  TRB   \n",
              "300  Rk  Player  Pos  Age  Tm  G  GS  MP  FG  FGA  ...  FT%  ORB  DRB  TRB   \n",
              "325  Rk  Player  Pos  Age  Tm  G  GS  MP  FG  FGA  ...  FT%  ORB  DRB  TRB   \n",
              "354  Rk  Player  Pos  Age  Tm  G  GS  MP  FG  FGA  ...  FT%  ORB  DRB  TRB   \n",
              "386  Rk  Player  Pos  Age  Tm  G  GS  MP  FG  FGA  ...  FT%  ORB  DRB  TRB   \n",
              "414  Rk  Player  Pos  Age  Tm  G  GS  MP  FG  FGA  ...  FT%  ORB  DRB  TRB   \n",
              "435  Rk  Player  Pos  Age  Tm  G  GS  MP  FG  FGA  ...  FT%  ORB  DRB  TRB   \n",
              "462  Rk  Player  Pos  Age  Tm  G  GS  MP  FG  FGA  ...  FT%  ORB  DRB  TRB   \n",
              "483  Rk  Player  Pos  Age  Tm  G  GS  MP  FG  FGA  ...  FT%  ORB  DRB  TRB   \n",
              "506  Rk  Player  Pos  Age  Tm  G  GS  MP  FG  FGA  ...  FT%  ORB  DRB  TRB   \n",
              "537  Rk  Player  Pos  Age  Tm  G  GS  MP  FG  FGA  ...  FT%  ORB  DRB  TRB   \n",
              "564  Rk  Player  Pos  Age  Tm  G  GS  MP  FG  FGA  ...  FT%  ORB  DRB  TRB   \n",
              "595  Rk  Player  Pos  Age  Tm  G  GS  MP  FG  FGA  ...  FT%  ORB  DRB  TRB   \n",
              "618  Rk  Player  Pos  Age  Tm  G  GS  MP  FG  FGA  ...  FT%  ORB  DRB  TRB   \n",
              "647  Rk  Player  Pos  Age  Tm  G  GS  MP  FG  FGA  ...  FT%  ORB  DRB  TRB   \n",
              "676  Rk  Player  Pos  Age  Tm  G  GS  MP  FG  FGA  ...  FT%  ORB  DRB  TRB   \n",
              "704  Rk  Player  Pos  Age  Tm  G  GS  MP  FG  FGA  ...  FT%  ORB  DRB  TRB   \n",
              "\n",
              "     AST  STL  BLK  TOV  PF  PTS  \n",
              "28   AST  STL  BLK  TOV  PF  PTS  \n",
              "51   AST  STL  BLK  TOV  PF  PTS  \n",
              "76   AST  STL  BLK  TOV  PF  PTS  \n",
              "106  AST  STL  BLK  TOV  PF  PTS  \n",
              "132  AST  STL  BLK  TOV  PF  PTS  \n",
              "163  AST  STL  BLK  TOV  PF  PTS  \n",
              "190  AST  STL  BLK  TOV  PF  PTS  \n",
              "213  AST  STL  BLK  TOV  PF  PTS  \n",
              "238  AST  STL  BLK  TOV  PF  PTS  \n",
              "267  AST  STL  BLK  TOV  PF  PTS  \n",
              "300  AST  STL  BLK  TOV  PF  PTS  \n",
              "325  AST  STL  BLK  TOV  PF  PTS  \n",
              "354  AST  STL  BLK  TOV  PF  PTS  \n",
              "386  AST  STL  BLK  TOV  PF  PTS  \n",
              "414  AST  STL  BLK  TOV  PF  PTS  \n",
              "435  AST  STL  BLK  TOV  PF  PTS  \n",
              "462  AST  STL  BLK  TOV  PF  PTS  \n",
              "483  AST  STL  BLK  TOV  PF  PTS  \n",
              "506  AST  STL  BLK  TOV  PF  PTS  \n",
              "537  AST  STL  BLK  TOV  PF  PTS  \n",
              "564  AST  STL  BLK  TOV  PF  PTS  \n",
              "595  AST  STL  BLK  TOV  PF  PTS  \n",
              "618  AST  STL  BLK  TOV  PF  PTS  \n",
              "647  AST  STL  BLK  TOV  PF  PTS  \n",
              "676  AST  STL  BLK  TOV  PF  PTS  \n",
              "704  AST  STL  BLK  TOV  PF  PTS  \n",
              "\n",
              "[26 rows x 30 columns]"
            ]
          },
          "execution_count": 16,
          "metadata": {},
          "output_type": "execute_result"
        }
      ],
      "source": [
        "df2019[df2019.Age == 'Age']"
      ]
    },
    {
      "cell_type": "code",
      "execution_count": 17,
      "metadata": {
        "colab": {
          "base_uri": "https://localhost:8080/"
        },
        "id": "rdRg9UDI5lus",
        "outputId": "fa63d38b-10d7-45be-c8d5-a2b5ca4b7ba5"
      },
      "outputs": [
        {
          "data": {
            "text/plain": [
              "26"
            ]
          },
          "execution_count": 17,
          "metadata": {},
          "output_type": "execute_result"
        }
      ],
      "source": [
        "len(df2019[df2019.Age == 'Age'])"
      ]
    },
    {
      "cell_type": "code",
      "execution_count": 18,
      "metadata": {
        "id": "lG34yiD5e_Cs"
      },
      "outputs": [],
      "source": [
        "df = df2019.drop(df2019[df2019.Age == 'Age'].index)"
      ]
    },
    {
      "cell_type": "code",
      "execution_count": 19,
      "metadata": {
        "colab": {
          "base_uri": "https://localhost:8080/"
        },
        "id": "1DwL0sq-u7wF",
        "outputId": "87a11b6e-2e9d-4ef5-f651-4ea66819fb67"
      },
      "outputs": [
        {
          "data": {
            "text/plain": [
              "(731, 30)"
            ]
          },
          "execution_count": 19,
          "metadata": {},
          "output_type": "execute_result"
        }
      ],
      "source": [
        "df2019.shape"
      ]
    },
    {
      "cell_type": "markdown",
      "metadata": {
        "id": "o4x9M9ArXl7l"
      },
      "source": [
        "## Quick Exploratory Data Analysis"
      ]
    },
    {
      "cell_type": "code",
      "execution_count": 20,
      "metadata": {
        "id": "Vw0kwGHNgSMS"
      },
      "outputs": [],
      "source": [
        "import seaborn as sns"
      ]
    },
    {
      "cell_type": "markdown",
      "metadata": {
        "id": "Vw77h9jPEd2z"
      },
      "source": [
        "Making the histogram"
      ]
    },
    {
      "cell_type": "code",
      "execution_count": 21,
      "metadata": {
        "colab": {
          "base_uri": "https://localhost:8080/",
          "height": 657
        },
        "id": "NqU0tBcuh-5V",
        "outputId": "4303bf1c-59be-44ad-cda1-0e0dea63aff6"
      },
      "outputs": [
        {
          "name": "stderr",
          "output_type": "stream",
          "text": [
            "C:\\Users\\Pavankumar2029\\AppData\\Local\\Temp\\ipykernel_29152\\2753154270.py:1: UserWarning: \n",
            "\n",
            "`distplot` is a deprecated function and will be removed in seaborn v0.14.0.\n",
            "\n",
            "Please adapt your code to use either `displot` (a figure-level function with\n",
            "similar flexibility) or `histplot` (an axes-level function for histograms).\n",
            "\n",
            "For a guide to updating your code to use the new functions, please see\n",
            "https://gist.github.com/mwaskom/de44147ed2974457ad6372750bbe5751\n",
            "\n",
            "  sns.distplot(df.PTS,\n"
          ]
        },
        {
          "data": {
            "text/plain": [
              "<Axes: xlabel='PTS'>"
            ]
          },
          "execution_count": 21,
          "metadata": {},
          "output_type": "execute_result"
        },
        {
          "data": {
            "image/png": "[encoded data removed]",
            "text/plain": [
              "<Figure size 640x480 with 1 Axes>"
            ]
          },
          "metadata": {},
          "output_type": "display_data"
        }
      ],
      "source": [
        "sns.distplot(df.PTS,\n",
        "             kde=False)"
      ]
    },
    {
      "cell_type": "markdown",
      "metadata": {
        "id": "aXcBxnrBEWGj"
      },
      "source": [
        "Change bar line color"
      ]
    },
    {
      "cell_type": "code",
      "execution_count": 22,
      "metadata": {
        "colab": {
          "base_uri": "https://localhost:8080/",
          "height": 657
        },
        "id": "ImyO9mMGkkTm",
        "outputId": "1ce01c8e-145d-4afa-d3eb-2341450391a2"
      },
      "outputs": [
        {
          "name": "stderr",
          "output_type": "stream",
          "text": [
            "C:\\Users\\Pavankumar2029\\AppData\\Local\\Temp\\ipykernel_29152\\1989560353.py:1: UserWarning: \n",
            "\n",
            "`distplot` is a deprecated function and will be removed in seaborn v0.14.0.\n",
            "\n",
            "Please adapt your code to use either `displot` (a figure-level function with\n",
            "similar flexibility) or `histplot` (an axes-level function for histograms).\n",
            "\n",
            "For a guide to updating your code to use the new functions, please see\n",
            "https://gist.github.com/mwaskom/de44147ed2974457ad6372750bbe5751\n",
            "\n",
            "  sns.distplot(df.PTS,\n"
          ]
        },
        {
          "data": {
            "text/plain": [
              "<Axes: xlabel='PTS'>"
            ]
          },
          "execution_count": 22,
          "metadata": {},
          "output_type": "execute_result"
        },
        {
          "data": {
            "image/png": "[encoded data removed]",
            "text/plain": [
              "<Figure size 640x480 with 1 Axes>"
            ]
          },
          "metadata": {},
          "output_type": "display_data"
        }
      ],
      "source": [
        "sns.distplot(df.PTS,\n",
        "             kde=False,\n",
        "             hist_kws=dict(edgecolor=\"black\", linewidth=2))"
      ]
    },
    {
      "cell_type": "markdown",
      "metadata": {
        "id": "uqkKFD4LEjoH"
      },
      "source": [
        "Change bar fill colors"
      ]
    },
    {
      "cell_type": "code",
      "execution_count": 23,
      "metadata": {
        "colab": {
          "base_uri": "https://localhost:8080/",
          "height": 657
        },
        "id": "RtdOAqjL34Vl",
        "outputId": "55073523-9ebf-4b05-fde6-8b329112b42a"
      },
      "outputs": [
        {
          "name": "stderr",
          "output_type": "stream",
          "text": [
            "C:\\Users\\Pavankumar2029\\AppData\\Local\\Temp\\ipykernel_29152\\4032245653.py:1: UserWarning: \n",
            "\n",
            "`distplot` is a deprecated function and will be removed in seaborn v0.14.0.\n",
            "\n",
            "Please adapt your code to use either `displot` (a figure-level function with\n",
            "similar flexibility) or `histplot` (an axes-level function for histograms).\n",
            "\n",
            "For a guide to updating your code to use the new functions, please see\n",
            "https://gist.github.com/mwaskom/de44147ed2974457ad6372750bbe5751\n",
            "\n",
            "  sns.distplot(df.PTS,\n"
          ]
        },
        {
          "data": {
            "text/plain": [
              "<Axes: xlabel='PTS'>"
            ]
          },
          "execution_count": 23,
          "metadata": {},
          "output_type": "execute_result"
        },
        {
          "data": {
            "image/png": "[encoded data removed]",
            "text/plain": [
              "<Figure size 640x480 with 1 Axes>"
            ]
          },
          "metadata": {},
          "output_type": "display_data"
        }
      ],
      "source": [
        "sns.distplot(df.PTS,\n",
        "             kde=False,\n",
        "             hist_kws=dict(edgecolor=\"black\", linewidth=2),\n",
        "             color='#00BFC4')"
      ]
    }
  ],
  "metadata": {
    "colab": {
      "name": "pandas-read-html-for-webscraping.ipynb",
      "provenance": []
    },
    "kernelspec": {
      "display_name": "Python 3",
      "name": "python3"
    },
    "language_info": {
      "codemirror_mode": {
        "name": "ipython",
        "version": 3
      },
      "file_extension": ".py",
      "mimetype": "text/x-python",
      "name": "python",
      "nbconvert_exporter": "python",
      "pygments_lexer": "ipython3",
      "version": "3.12.0"
    }
  },
  "nbformat": 4,
  "nbformat_minor": 0
}
